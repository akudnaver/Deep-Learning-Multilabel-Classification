{
 "cells": [
  {
   "cell_type": "code",
   "execution_count": 4,
   "metadata": {},
   "outputs": [
    {
     "data": {
      "text/html": [
       "<style>.container { width:100% !important; }</style>"
      ],
      "text/plain": [
       "<IPython.core.display.HTML object>"
      ]
     },
     "metadata": {},
     "output_type": "display_data"
    }
   ],
   "source": [
    "import keras \n",
    "import os\n",
    "import re\n",
    "import numpy as np\n",
    "from keras.preprocessing.text import Tokenizer\n",
    "from sklearn import preprocessing\n",
    "import numpy as np\n",
    "import pandas as pd\n",
    "import seaborn as sns\n",
    "import matplotlib.pyplot as plt\n",
    "from sklearn.model_selection import train_test_split\n",
    "from sklearn.metrics import accuracy_score, log_loss\n",
    "%matplotlib inline\n",
    "from IPython.core.display import display, HTML\n",
    "from sklearn.linear_model import LogisticRegression\n",
    "display(HTML(\"<style>.container { width:100% !important; }</style>\"))"
   ]
  },
  {
   "cell_type": "code",
   "execution_count": 921,
   "metadata": {},
   "outputs": [],
   "source": [
    "# Read multiple text files in a directory\n",
    "\n",
    "data_folder = r'./Scripts'"
   ]
  },
  {
   "cell_type": "code",
   "execution_count": 922,
   "metadata": {},
   "outputs": [
    {
     "name": "stdout",
     "output_type": "stream",
     "text": [
      "Total Number of Files : 2827\n"
     ]
    }
   ],
   "source": [
    "# loading all the files in a directory \n",
    "\n",
    "all_files = os.listdir(data_folder)\n",
    "print('Total Number of Files :', len(all_files))"
   ]
  },
  {
   "cell_type": "code",
   "execution_count": 923,
   "metadata": {},
   "outputs": [],
   "source": [
    "# loading the training datasets \n",
    "\n",
    "df_train = pd.read_csv(\"./Train.csv\")"
   ]
  },
  {
   "cell_type": "code",
   "execution_count": 924,
   "metadata": {},
   "outputs": [],
   "source": [
    "# renaming the Labels to Genre just to keep the definition of lable within our context\n",
    "\n",
    "df_train.rename(columns = {'Labels':'Genre'}, inplace = True) "
   ]
  },
  {
   "cell_type": "code",
   "execution_count": 925,
   "metadata": {},
   "outputs": [
    {
     "data": {
      "text/html": [
       "<div>\n",
       "<style scoped>\n",
       "    .dataframe tbody tr th:only-of-type {\n",
       "        vertical-align: middle;\n",
       "    }\n",
       "\n",
       "    .dataframe tbody tr th {\n",
       "        vertical-align: top;\n",
       "    }\n",
       "\n",
       "    .dataframe thead th {\n",
       "        text-align: right;\n",
       "    }\n",
       "</style>\n",
       "<table border=\"1\" class=\"dataframe\">\n",
       "  <thead>\n",
       "    <tr style=\"text-align: right;\">\n",
       "      <th></th>\n",
       "      <th>File_Name</th>\n",
       "      <th>Genre</th>\n",
       "    </tr>\n",
       "  </thead>\n",
       "  <tbody>\n",
       "    <tr>\n",
       "      <th>0</th>\n",
       "      <td>file_2180.txt</td>\n",
       "      <td>8</td>\n",
       "    </tr>\n",
       "    <tr>\n",
       "      <th>1</th>\n",
       "      <td>file_693.txt</td>\n",
       "      <td>4</td>\n",
       "    </tr>\n",
       "    <tr>\n",
       "      <th>2</th>\n",
       "      <td>file_2469.txt</td>\n",
       "      <td>6</td>\n",
       "    </tr>\n",
       "    <tr>\n",
       "      <th>3</th>\n",
       "      <td>file_2542.txt</td>\n",
       "      <td>6</td>\n",
       "    </tr>\n",
       "    <tr>\n",
       "      <th>4</th>\n",
       "      <td>file_378.txt</td>\n",
       "      <td>16</td>\n",
       "    </tr>\n",
       "  </tbody>\n",
       "</table>\n",
       "</div>"
      ],
      "text/plain": [
       "       File_Name  Genre\n",
       "0  file_2180.txt      8\n",
       "1   file_693.txt      4\n",
       "2  file_2469.txt      6\n",
       "3  file_2542.txt      6\n",
       "4   file_378.txt     16"
      ]
     },
     "execution_count": 925,
     "metadata": {},
     "output_type": "execute_result"
    }
   ],
   "source": [
    "df_train.head()"
   ]
  },
  {
   "cell_type": "code",
   "execution_count": 926,
   "metadata": {},
   "outputs": [
    {
     "name": "stdout",
     "output_type": "stream",
     "text": [
      "<class 'pandas.core.frame.DataFrame'>\n",
      "RangeIndex: 1978 entries, 0 to 1977\n",
      "Data columns (total 2 columns):\n",
      " #   Column     Non-Null Count  Dtype \n",
      "---  ------     --------------  ----- \n",
      " 0   File_Name  1978 non-null   object\n",
      " 1   Genre      1978 non-null   int64 \n",
      "dtypes: int64(1), object(1)\n",
      "memory usage: 31.0+ KB\n"
     ]
    }
   ],
   "source": [
    "df_train.info()"
   ]
  },
  {
   "cell_type": "code",
   "execution_count": 927,
   "metadata": {},
   "outputs": [
    {
     "data": {
      "text/plain": [
       "array([ 8,  4,  6, 16, 15, 19,  1, 14,  0,  5,  2, 11,  7,  3, 13, 20, 21,\n",
       "       12, 10, 17,  9, 18], dtype=int64)"
      ]
     },
     "execution_count": 927,
     "metadata": {},
     "output_type": "execute_result"
    }
   ],
   "source": [
    "df_train['Genre'] = df_train['Genre']\n",
    "df_train['Genre'].unique()"
   ]
  },
  {
   "cell_type": "code",
   "execution_count": 928,
   "metadata": {},
   "outputs": [
    {
     "data": {
      "text/plain": [
       "6     405\n",
       "19    261\n",
       "4     243\n",
       "0     203\n",
       "5     141\n",
       "15    134\n",
       "1     116\n",
       "16    109\n",
       "11    104\n",
       "8      79\n",
       "14     75\n",
       "7      27\n",
       "2      25\n",
       "20     18\n",
       "13     15\n",
       "21      9\n",
       "12      4\n",
       "9       3\n",
       "3       2\n",
       "17      2\n",
       "10      2\n",
       "18      1\n",
       "Name: Genre, dtype: int64"
      ]
     },
     "execution_count": 928,
     "metadata": {},
     "output_type": "execute_result"
    }
   ],
   "source": [
    "# Checking the count of Genres across each docs under Movie Scripts \n",
    "\n",
    "df_train.Genre.value_counts()"
   ]
  },
  {
   "cell_type": "code",
   "execution_count": 929,
   "metadata": {},
   "outputs": [
    {
     "data": {
      "text/plain": [
       "<matplotlib.axes._subplots.AxesSubplot at 0x1f2730b6688>"
      ]
     },
     "execution_count": 929,
     "metadata": {},
     "output_type": "execute_result"
    },
    {
     "data": {
      "image/png": "[encoded data removed]",
      "text/plain": [
       "<Figure size 504x720 with 1 Axes>"
      ]
     },
     "metadata": {
      "needs_background": "light"
     },
     "output_type": "display_data"
    }
   ],
   "source": [
    "# Plot the counts of Genre for each sample\n",
    "\n",
    "df_train['Genre'].value_counts().plot(kind='bar', figsize=(7,10), rot=0, yticks=range(0, 420,20))"
   ]
  },
  {
   "cell_type": "code",
   "execution_count": 930,
   "metadata": {},
   "outputs": [
    {
     "data": {
      "text/html": [
       "<div>\n",
       "<style scoped>\n",
       "    .dataframe tbody tr th:only-of-type {\n",
       "        vertical-align: middle;\n",
       "    }\n",
       "\n",
       "    .dataframe tbody tr th {\n",
       "        vertical-align: top;\n",
       "    }\n",
       "\n",
       "    .dataframe thead th {\n",
       "        text-align: right;\n",
       "    }\n",
       "</style>\n",
       "<table border=\"1\" class=\"dataframe\">\n",
       "  <thead>\n",
       "    <tr style=\"text-align: right;\">\n",
       "      <th></th>\n",
       "      <th>File_Name</th>\n",
       "      <th>Labels</th>\n",
       "    </tr>\n",
       "  </thead>\n",
       "  <tbody>\n",
       "    <tr>\n",
       "      <th>0</th>\n",
       "      <td>file_2300.txt</td>\n",
       "      <td>0</td>\n",
       "    </tr>\n",
       "    <tr>\n",
       "      <th>1</th>\n",
       "      <td>file_809.txt</td>\n",
       "      <td>1</td>\n",
       "    </tr>\n",
       "    <tr>\n",
       "      <th>2</th>\n",
       "      <td>file_1383.txt</td>\n",
       "      <td>2</td>\n",
       "    </tr>\n",
       "    <tr>\n",
       "      <th>3</th>\n",
       "      <td>file_983.txt</td>\n",
       "      <td>3</td>\n",
       "    </tr>\n",
       "    <tr>\n",
       "      <th>4</th>\n",
       "      <td>file_1713.txt</td>\n",
       "      <td>4</td>\n",
       "    </tr>\n",
       "  </tbody>\n",
       "</table>\n",
       "</div>"
      ],
      "text/plain": [
       "       File_Name  Labels\n",
       "0  file_2300.txt       0\n",
       "1   file_809.txt       1\n",
       "2  file_1383.txt       2\n",
       "3   file_983.txt       3\n",
       "4  file_1713.txt       4"
      ]
     },
     "execution_count": 930,
     "metadata": {},
     "output_type": "execute_result"
    }
   ],
   "source": [
    "# Lets load the test data for prediction when our model is trained enough\n",
    "\n",
    "df_test = pd.read_csv('./st.csv')\n",
    "df_test.head()"
   ]
  },
  {
   "cell_type": "code",
   "execution_count": 931,
   "metadata": {},
   "outputs": [],
   "source": [
    "## let's read the text scripts in the train and test dataframes..\n",
    "\n",
    "df_train['Script'] = [open(data_folder + os.sep + file, \"r\").read() for file in df_train['File_Name']]\n",
    "df_test['Script'] = [open(data_folder + os.sep + file, \"r\").read() for file in df_test['File_Name']]"
   ]
  },
  {
   "cell_type": "code",
   "execution_count": 932,
   "metadata": {},
   "outputs": [
    {
     "data": {
      "text/html": [
       "<div>\n",
       "<style scoped>\n",
       "    .dataframe tbody tr th:only-of-type {\n",
       "        vertical-align: middle;\n",
       "    }\n",
       "\n",
       "    .dataframe tbody tr th {\n",
       "        vertical-align: top;\n",
       "    }\n",
       "\n",
       "    .dataframe thead th {\n",
       "        text-align: right;\n",
       "    }\n",
       "</style>\n",
       "<table border=\"1\" class=\"dataframe\">\n",
       "  <thead>\n",
       "    <tr style=\"text-align: right;\">\n",
       "      <th></th>\n",
       "      <th>File_Name</th>\n",
       "      <th>Genre</th>\n",
       "      <th>Script</th>\n",
       "    </tr>\n",
       "  </thead>\n",
       "  <tbody>\n",
       "    <tr>\n",
       "      <th>0</th>\n",
       "      <td>file_2180.txt</td>\n",
       "      <td>8</td>\n",
       "      <td>\\t\\t\\tCrouching Tiger, Hidden Dragon\\n\\n\\t\\t\\t...</td>\n",
       "    </tr>\n",
       "    <tr>\n",
       "      <th>1</th>\n",
       "      <td>file_693.txt</td>\n",
       "      <td>4</td>\n",
       "      <td>\"MUMFO...</td>\n",
       "    </tr>\n",
       "    <tr>\n",
       "      <th>2</th>\n",
       "      <td>file_2469.txt</td>\n",
       "      <td>6</td>\n",
       "      <td>MAX PAYNE\\n\\n          ...</td>\n",
       "    </tr>\n",
       "    <tr>\n",
       "      <th>3</th>\n",
       "      <td>file_2542.txt</td>\n",
       "      <td>6</td>\n",
       "      <td>SLUMDOG MILLIONAIRE\\n\\n ...</td>\n",
       "    </tr>\n",
       "    <tr>\n",
       "      <th>4</th>\n",
       "      <td>file_378.txt</td>\n",
       "      <td>16</td>\n",
       "      <td>&lt;b&gt;&lt;!--\\n\\n&lt;/b&gt;if (window!= top)\\n\\ntop.locati...</td>\n",
       "    </tr>\n",
       "  </tbody>\n",
       "</table>\n",
       "</div>"
      ],
      "text/plain": [
       "       File_Name  Genre                                             Script\n",
       "0  file_2180.txt      8  \\t\\t\\tCrouching Tiger, Hidden Dragon\\n\\n\\t\\t\\t...\n",
       "1   file_693.txt      4                                          \"MUMFO...\n",
       "2  file_2469.txt      6                         MAX PAYNE\\n\\n          ...\n",
       "3  file_2542.txt      6                        SLUMDOG MILLIONAIRE\\n\\n ...\n",
       "4   file_378.txt     16  <b><!--\\n\\n</b>if (window!= top)\\n\\ntop.locati..."
      ]
     },
     "execution_count": 932,
     "metadata": {},
     "output_type": "execute_result"
    }
   ],
   "source": [
    "df_train.head()"
   ]
  },
  {
   "cell_type": "code",
   "execution_count": 933,
   "metadata": {},
   "outputs": [],
   "source": [
    "# Create a function which will basically perform a cleanup of our Sripts \n",
    "def preprocessor(text):\n",
    "    text = re.sub('<[^>]*>', '', text)\n",
    "    emoticons = re.findall('(?::|;|=)(?:-)?(?:\\)|\\(|D|P)', text)\n",
    "    text = (re.sub('[\\W]+', ' ', text.lower()) + ' '.join(emoticons).replace('-', ''))\n",
    "    return text"
   ]
  },
  {
   "cell_type": "code",
   "execution_count": 934,
   "metadata": {},
   "outputs": [],
   "source": [
    "# Apply the cleanup function on our script in the entire dataset\n",
    "\n",
    "df_train['Script'] = df_train['Script'].apply(preprocessor)"
   ]
  },
  {
   "cell_type": "code",
   "execution_count": 935,
   "metadata": {},
   "outputs": [],
   "source": [
    "# In this step we are going to check the lenght of each script and add it as a column to our existing dataframe\n",
    "\n",
    "df_train['Script_length'] = df_train['Script'].apply(lambda x: len(x))\n",
    "df_test['Script_length'] = df_test['Script'].apply(lambda x: len(x))"
   ]
  },
  {
   "cell_type": "code",
   "execution_count": 936,
   "metadata": {
    "scrolled": true
   },
   "outputs": [
    {
     "data": {
      "text/plain": [
       "<matplotlib.axes._subplots.AxesSubplot at 0x1f35b522808>"
      ]
     },
     "execution_count": 936,
     "metadata": {},
     "output_type": "execute_result"
    },
    {
     "data": {
      "image/png": "[encoded data removed]",
      "text/plain": [
       "<Figure size 432x288 with 1 Axes>"
      ]
     },
     "metadata": {
      "needs_background": "light"
     },
     "output_type": "display_data"
    },
    {
     "data": {
      "image/png": "[encoded data removed]",
      "text/plain": [
       "<Figure size 432x288 with 1 Axes>"
      ]
     },
     "metadata": {
      "needs_background": "light"
     },
     "output_type": "display_data"
    },
    {
     "data": {
      "image/png": "[encoded data removed]",
      "text/plain": [
       "<Figure size 432x288 with 1 Axes>"
      ]
     },
     "metadata": {
      "needs_background": "light"
     },
     "output_type": "display_data"
    },
    {
     "data": {
      "image/png": "[encoded data removed]",
      "text/plain": [
       "<Figure size 432x288 with 1 Axes>"
      ]
     },
     "metadata": {
      "needs_background": "light"
     },
     "output_type": "display_data"
    }
   ],
   "source": [
    "# Plotting is always worth pulling over for, here we are just going to plot lenght of our script against the Genre \n",
    "# different statistics\n",
    "\n",
    "df_train.groupby('Genre').mean().plot(kind='line',rot=0, xticks=range(0,22,1), title=\"Mean script length per class\")\n",
    "df_train.groupby('Genre').median().plot(kind='line',rot=0, xticks=range(0,22,1), title=\"Median script length per class\")\n",
    "df_train.groupby('Genre').min().plot(kind='line',rot=0, xticks=range(0,22,1), title=\"Minimum script length per class\")\n",
    "df_train.groupby('Genre').max().plot(kind='line',rot=0, xticks=range(0,22,1), title=\"Maximum script length per class\")"
   ]
  },
  {
   "cell_type": "code",
   "execution_count": 937,
   "metadata": {},
   "outputs": [
    {
     "name": "stdout",
     "output_type": "stream",
     "text": [
      "Samples per class (training): [203 116  25   2 243 141 405  27  79   3   2 104   4  15  75 134 109   2\n",
      "   1 261  18   9]\n"
     ]
    }
   ],
   "source": [
    "print(\"Samples per class (training): {}\".format(np.bincount(df_train['Genre'])))\n",
    "y_bin = np.bincount(df_train['Genre'])\n",
    "y1 = y_bin.tolist()"
   ]
  },
  {
   "cell_type": "code",
   "execution_count": 938,
   "metadata": {},
   "outputs": [],
   "source": [
    "# We always try to make sure that our labels are having significant impacting during the model learning process of algorith of our choice, \n",
    "# now as we have see in the plot of Genre that Genre= 18 has only one count which definitely reduces its important for training\n",
    "# in the below step we get rid of this Genre = 18 and reset the index , to make sure no impact in the dataset\n",
    "\n",
    "temp = df_train.drop(df_train[df_train['Genre'] ==18].index[0], axis=0)"
   ]
  },
  {
   "cell_type": "code",
   "execution_count": 939,
   "metadata": {},
   "outputs": [],
   "source": [
    "# Let's split our data to training and validation set\n",
    "\n",
    "X_train, X_test, y_train, y_test = train_test_split(temp[['Script']].values, temp.Genre.values, \n",
    "                                                    test_size=0.3, \n",
    "                                                    stratify= temp.Genre.values, \n",
    "                                                    random_state=42, shuffle=True)"
   ]
  },
  {
   "cell_type": "code",
   "execution_count": 940,
   "metadata": {},
   "outputs": [
    {
     "data": {
      "text/plain": [
       "21"
      ]
     },
     "execution_count": 940,
     "metadata": {},
     "output_type": "execute_result"
    }
   ],
   "source": [
    "len(set(y_test))"
   ]
  },
  {
   "cell_type": "code",
   "execution_count": 941,
   "metadata": {},
   "outputs": [
    {
     "name": "stdout",
     "output_type": "stream",
     "text": [
      "(1383, 1)\n",
      "(594, 1)\n",
      "(1383,)\n",
      "(594,)\n"
     ]
    }
   ],
   "source": [
    "print(X_train.shape)\n",
    "print(X_test.shape)\n",
    "print(y_train.shape)\n",
    "print(y_test.shape)"
   ]
  },
  {
   "cell_type": "code",
   "execution_count": 943,
   "metadata": {},
   "outputs": [],
   "source": [
    "# # Now as we are readling with a text data , we have to create our own vocabulury and the best way to deal with it is to use the TFIDF , \n",
    "# which retrieves the most signifcant words in our document= 'Script' and then convert these words into a vector which will be later fed to our \n",
    "# machine learning mode . Let's begin by using the below set of parameters!\n",
    "\n",
    "tfv = TfidfVectorizer(min_df=3,  max_features=100, \n",
    "            strip_accents='unicode', analyzer='word',token_pattern=r'\\w{1,}',\n",
    "            ngram_range=(1, 3), use_idf=1,smooth_idf=1,sublinear_tf=1,\n",
    "            stop_words = 'english')"
   ]
  },
  {
   "cell_type": "code",
   "execution_count": 944,
   "metadata": {},
   "outputs": [
    {
     "data": {
      "text/plain": [
       "TfidfVectorizer(analyzer='word', binary=False, decode_error='strict',\n",
       "                dtype=<class 'numpy.float64'>, encoding='utf-8',\n",
       "                input='content', lowercase=True, max_df=1.0, max_features=100,\n",
       "                min_df=3, ngram_range=(1, 3), norm='l2', preprocessor=None,\n",
       "                smooth_idf=1, stop_words='english', strip_accents='unicode',\n",
       "                sublinear_tf=1, token_pattern='\\\\w{1,}', tokenizer=None,\n",
       "                use_idf=1, vocabulary=None)"
      ]
     },
     "execution_count": 944,
     "metadata": {},
     "output_type": "execute_result"
    }
   ],
   "source": [
    "# Fitting TF-IDF to both training and test sets (semi-supervised learning)\n",
    "temp = (list(X_train) + list(X_test))\n",
    "temp = np.asarray(temp).reshape(-1)\n",
    "tfv.fit(temp)"
   ]
  },
  {
   "cell_type": "code",
   "execution_count": 945,
   "metadata": {},
   "outputs": [],
   "source": [
    "# Lets transform the words into vectors for our machine learning algorithm to understand our Script text data \n",
    "\n",
    "x_train_tfv = tfv.transform(np.asarray(X_train).reshape(-1))\n",
    "x_test_tfv = tfv.transform(np.asarray(X_test).reshape(-1))"
   ]
  },
  {
   "cell_type": "code",
   "execution_count": 946,
   "metadata": {},
   "outputs": [
    {
     "name": "stderr",
     "output_type": "stream",
     "text": [
      "C:\\Users\\akudnaver\\Anaconda3\\lib\\site-packages\\sklearn\\linear_model\\_logistic.py:940: ConvergenceWarning: lbfgs failed to converge (status=1):\n",
      "STOP: TOTAL NO. of ITERATIONS REACHED LIMIT.\n",
      "\n",
      "Increase the number of iterations (max_iter) or scale the data as shown in:\n",
      "    https://scikit-learn.org/stable/modules/preprocessing.html\n",
      "Please also refer to the documentation for alternative solver options:\n",
      "    https://scikit-learn.org/stable/modules/linear_model.html#logistic-regression\n",
      "  extra_warning_msg=_LOGISTIC_SOLVER_CONVERGENCE_MSG)\n"
     ]
    },
    {
     "data": {
      "text/plain": [
       "LogisticRegression(C=1.0, class_weight=None, dual=False, fit_intercept=True,\n",
       "                   intercept_scaling=1, l1_ratio=None, max_iter=100,\n",
       "                   multi_class='auto', n_jobs=None, penalty='l2',\n",
       "                   random_state=None, solver='lbfgs', tol=0.0001, verbose=0,\n",
       "                   warm_start=False)"
      ]
     },
     "execution_count": 946,
     "metadata": {},
     "output_type": "execute_result"
    }
   ],
   "source": [
    "# As it is a classification problem, lets use our well know logistic regression on our x and y data \n",
    "\n",
    "log = LogisticRegression(C=1.0)\n",
    "log.fit(x_train_tfv, y_train)"
   ]
  },
  {
   "cell_type": "code",
   "execution_count": 947,
   "metadata": {},
   "outputs": [],
   "source": [
    "# We basically want to predict the probablity of the multiclass across our individual samples(\"Script text\")\n",
    "prediction = log.predict_proba(x_test_tfv)"
   ]
  },
  {
   "cell_type": "code",
   "execution_count": 948,
   "metadata": {},
   "outputs": [
    {
     "data": {
      "text/plain": [
       "(594, 21)"
      ]
     },
     "execution_count": 948,
     "metadata": {},
     "output_type": "execute_result"
    }
   ],
   "source": [
    "prediction.shape"
   ]
  },
  {
   "cell_type": "code",
   "execution_count": 949,
   "metadata": {},
   "outputs": [
    {
     "name": "stdout",
     "output_type": "stream",
     "text": [
      "logistic loss score in %: 2.32353131759152\n"
     ]
    }
   ],
   "source": [
    "# In this step we will calculate the loss incurred by our logistic regression alogrithm based on our parameters used for the model \n",
    "print(\"logistic loss score in %: {}\".format(log_loss(y_test, prediction)))"
   ]
  },
  {
   "cell_type": "code",
   "execution_count": 950,
   "metadata": {},
   "outputs": [],
   "source": [
    "# It appears our model is able to predict 97% of the prediction correctly, now we will use our model on the entire data for predicting the Genre !!\n",
    "x_train = df_train.Script.values\n",
    "y_train = df_train.Genre.values\n",
    "x_test = df_test.Script.values"
   ]
  },
  {
   "cell_type": "code",
   "execution_count": 951,
   "metadata": {},
   "outputs": [
    {
     "name": "stdout",
     "output_type": "stream",
     "text": [
      "(1978,)\n",
      "(1978,)\n",
      "(849,)\n"
     ]
    }
   ],
   "source": [
    "# lets quickly verify the shape of our data \n",
    "\n",
    "print(x_train.shape)\n",
    "print(y_train.shape)\n",
    "print(x_test.shape)"
   ]
  },
  {
   "cell_type": "code",
   "execution_count": 952,
   "metadata": {},
   "outputs": [],
   "source": [
    "# # Now as we are readling with a text data , we have to create our own vocabulury and the best way to deal with it is to use the TFIDF , \n",
    "# which retrieves the most signifcant words in our document= 'Script' and then convert these words into a vector which will be later fed to our \n",
    "# machine learning mode . Let's begin by using the below set of parameters!\n",
    "\n",
    "tfv_c = TfidfVectorizer(min_df=3,  max_features=100, \n",
    "            strip_accents='unicode', analyzer='word',token_pattern=r'\\w{1,}',\n",
    "            ngram_range=(1, 3), use_idf=1,smooth_idf=1,sublinear_tf=1,\n",
    "            stop_words = 'english')"
   ]
  },
  {
   "cell_type": "code",
   "execution_count": 953,
   "metadata": {},
   "outputs": [
    {
     "data": {
      "text/plain": [
       "TfidfVectorizer(analyzer='word', binary=False, decode_error='strict',\n",
       "                dtype=<class 'numpy.float64'>, encoding='utf-8',\n",
       "                input='content', lowercase=True, max_df=1.0, max_features=100,\n",
       "                min_df=3, ngram_range=(1, 3), norm='l2', preprocessor=None,\n",
       "                smooth_idf=1, stop_words='english', strip_accents='unicode',\n",
       "                sublinear_tf=1, token_pattern='\\\\w{1,}', tokenizer=None,\n",
       "                use_idf=1, vocabulary=None)"
      ]
     },
     "execution_count": 953,
     "metadata": {},
     "output_type": "execute_result"
    }
   ],
   "source": [
    "tfv_c.fit(np.asarray(x_train).reshape(-1))"
   ]
  },
  {
   "cell_type": "code",
   "execution_count": 954,
   "metadata": {},
   "outputs": [],
   "source": [
    "# Lets transform the words into vectors for our machine learning algorithm to understand our Script text data \n",
    "\n",
    "x_train_tfv = tfv_c.transform(x_train)\n",
    "x_test_tfv = tfv_c.transform(x_test)"
   ]
  },
  {
   "cell_type": "code",
   "execution_count": 955,
   "metadata": {},
   "outputs": [
    {
     "name": "stdout",
     "output_type": "stream",
     "text": [
      "(1978, 100)\n",
      "(1978,)\n",
      "(849, 100)\n"
     ]
    }
   ],
   "source": [
    "print(x_train_tfv.shape)\n",
    "print(y_train.shape)\n",
    "print(x_test_tfv.shape)"
   ]
  },
  {
   "cell_type": "code",
   "execution_count": 956,
   "metadata": {},
   "outputs": [
    {
     "name": "stderr",
     "output_type": "stream",
     "text": [
      "C:\\Users\\akudnaver\\Anaconda3\\lib\\site-packages\\sklearn\\linear_model\\_logistic.py:940: ConvergenceWarning: lbfgs failed to converge (status=1):\n",
      "STOP: TOTAL NO. of ITERATIONS REACHED LIMIT.\n",
      "\n",
      "Increase the number of iterations (max_iter) or scale the data as shown in:\n",
      "    https://scikit-learn.org/stable/modules/preprocessing.html\n",
      "Please also refer to the documentation for alternative solver options:\n",
      "    https://scikit-learn.org/stable/modules/linear_model.html#logistic-regression\n",
      "  extra_warning_msg=_LOGISTIC_SOLVER_CONVERGENCE_MSG)\n"
     ]
    },
    {
     "data": {
      "text/plain": [
       "LogisticRegression(C=1.0, class_weight=None, dual=False, fit_intercept=True,\n",
       "                   intercept_scaling=1, l1_ratio=None, max_iter=100,\n",
       "                   multi_class='auto', n_jobs=None, penalty='l2',\n",
       "                   random_state=None, solver='lbfgs', tol=0.0001, verbose=0,\n",
       "                   warm_start=False)"
      ]
     },
     "execution_count": 956,
     "metadata": {},
     "output_type": "execute_result"
    }
   ],
   "source": [
    "# lets fit the logistic regression on the entire training data\n",
    "log2 = LogisticRegression(C=1.0,solver='lbfgs',max_iter=100)\n",
    "log2.fit(x_train_tfv, y_train)"
   ]
  },
  {
   "cell_type": "code",
   "execution_count": 957,
   "metadata": {},
   "outputs": [],
   "source": [
    "# We can now use our model to predict the test data set, which is our 'Script', which shall return the probability \n",
    "# of different Genres\n",
    "predict_test = log2.predict_log_proba(x_test_tfv)"
   ]
  },
  {
   "cell_type": "code",
   "execution_count": 958,
   "metadata": {},
   "outputs": [],
   "source": [
    "# Converting the pridiction to a dataframe , we are passing the absolute function to remove the \n",
    "# negative values\n",
    "\n",
    "prediction_df = abs(pd.DataFrame(predict_test))"
   ]
  },
  {
   "cell_type": "code",
   "execution_count": 959,
   "metadata": {},
   "outputs": [
    {
     "data": {
      "text/html": [
       "<div>\n",
       "<style scoped>\n",
       "    .dataframe tbody tr th:only-of-type {\n",
       "        vertical-align: middle;\n",
       "    }\n",
       "\n",
       "    .dataframe tbody tr th {\n",
       "        vertical-align: top;\n",
       "    }\n",
       "\n",
       "    .dataframe thead th {\n",
       "        text-align: right;\n",
       "    }\n",
       "</style>\n",
       "<table border=\"1\" class=\"dataframe\">\n",
       "  <thead>\n",
       "    <tr style=\"text-align: right;\">\n",
       "      <th></th>\n",
       "      <th>0</th>\n",
       "      <th>1</th>\n",
       "      <th>2</th>\n",
       "      <th>3</th>\n",
       "      <th>4</th>\n",
       "      <th>5</th>\n",
       "      <th>6</th>\n",
       "      <th>7</th>\n",
       "      <th>8</th>\n",
       "      <th>9</th>\n",
       "      <th>...</th>\n",
       "      <th>12</th>\n",
       "      <th>13</th>\n",
       "      <th>14</th>\n",
       "      <th>15</th>\n",
       "      <th>16</th>\n",
       "      <th>17</th>\n",
       "      <th>18</th>\n",
       "      <th>19</th>\n",
       "      <th>20</th>\n",
       "      <th>21</th>\n",
       "    </tr>\n",
       "  </thead>\n",
       "  <tbody>\n",
       "    <tr>\n",
       "      <th>0</th>\n",
       "      <td>2.680064</td>\n",
       "      <td>3.212109</td>\n",
       "      <td>4.437219</td>\n",
       "      <td>6.997489</td>\n",
       "      <td>1.765742</td>\n",
       "      <td>2.710183</td>\n",
       "      <td>1.347320</td>\n",
       "      <td>4.535755</td>\n",
       "      <td>3.554214</td>\n",
       "      <td>6.554465</td>\n",
       "      <td>...</td>\n",
       "      <td>6.336016</td>\n",
       "      <td>5.022180</td>\n",
       "      <td>3.330304</td>\n",
       "      <td>2.597778</td>\n",
       "      <td>3.241087</td>\n",
       "      <td>6.922863</td>\n",
       "      <td>7.641846</td>\n",
       "      <td>2.067943</td>\n",
       "      <td>4.746328</td>\n",
       "      <td>5.618215</td>\n",
       "    </tr>\n",
       "    <tr>\n",
       "      <th>1</th>\n",
       "      <td>2.882385</td>\n",
       "      <td>3.205957</td>\n",
       "      <td>4.429695</td>\n",
       "      <td>7.027598</td>\n",
       "      <td>1.665394</td>\n",
       "      <td>2.686316</td>\n",
       "      <td>1.278721</td>\n",
       "      <td>4.548360</td>\n",
       "      <td>3.483567</td>\n",
       "      <td>6.631474</td>\n",
       "      <td>...</td>\n",
       "      <td>6.397679</td>\n",
       "      <td>5.031493</td>\n",
       "      <td>3.344240</td>\n",
       "      <td>2.317695</td>\n",
       "      <td>3.311777</td>\n",
       "      <td>6.985037</td>\n",
       "      <td>7.691957</td>\n",
       "      <td>2.405437</td>\n",
       "      <td>4.850136</td>\n",
       "      <td>5.670201</td>\n",
       "    </tr>\n",
       "    <tr>\n",
       "      <th>2</th>\n",
       "      <td>1.979675</td>\n",
       "      <td>1.987477</td>\n",
       "      <td>4.158032</td>\n",
       "      <td>6.776376</td>\n",
       "      <td>2.661071</td>\n",
       "      <td>3.484322</td>\n",
       "      <td>1.766610</td>\n",
       "      <td>4.078750</td>\n",
       "      <td>2.869276</td>\n",
       "      <td>6.398794</td>\n",
       "      <td>...</td>\n",
       "      <td>6.051961</td>\n",
       "      <td>4.666008</td>\n",
       "      <td>3.443324</td>\n",
       "      <td>2.790818</td>\n",
       "      <td>2.325524</td>\n",
       "      <td>6.833819</td>\n",
       "      <td>7.513571</td>\n",
       "      <td>2.430912</td>\n",
       "      <td>4.498830</td>\n",
       "      <td>5.168879</td>\n",
       "    </tr>\n",
       "    <tr>\n",
       "      <th>3</th>\n",
       "      <td>2.604371</td>\n",
       "      <td>3.228897</td>\n",
       "      <td>4.543527</td>\n",
       "      <td>6.952094</td>\n",
       "      <td>1.799526</td>\n",
       "      <td>2.625197</td>\n",
       "      <td>1.520577</td>\n",
       "      <td>4.529213</td>\n",
       "      <td>3.231675</td>\n",
       "      <td>6.668924</td>\n",
       "      <td>...</td>\n",
       "      <td>6.231523</td>\n",
       "      <td>5.197782</td>\n",
       "      <td>3.443884</td>\n",
       "      <td>2.197572</td>\n",
       "      <td>2.986038</td>\n",
       "      <td>6.939432</td>\n",
       "      <td>7.688580</td>\n",
       "      <td>2.217421</td>\n",
       "      <td>4.968002</td>\n",
       "      <td>5.520712</td>\n",
       "    </tr>\n",
       "    <tr>\n",
       "      <th>4</th>\n",
       "      <td>1.790809</td>\n",
       "      <td>2.324321</td>\n",
       "      <td>4.273895</td>\n",
       "      <td>6.859142</td>\n",
       "      <td>2.554055</td>\n",
       "      <td>2.656143</td>\n",
       "      <td>1.820832</td>\n",
       "      <td>4.433285</td>\n",
       "      <td>3.211163</td>\n",
       "      <td>6.476691</td>\n",
       "      <td>...</td>\n",
       "      <td>6.251962</td>\n",
       "      <td>4.780348</td>\n",
       "      <td>3.135941</td>\n",
       "      <td>2.826434</td>\n",
       "      <td>2.681021</td>\n",
       "      <td>6.824307</td>\n",
       "      <td>7.482550</td>\n",
       "      <td>2.187523</td>\n",
       "      <td>4.591923</td>\n",
       "      <td>5.430912</td>\n",
       "    </tr>\n",
       "  </tbody>\n",
       "</table>\n",
       "<p>5 rows × 22 columns</p>\n",
       "</div>"
      ],
      "text/plain": [
       "         0         1         2         3         4         5         6   \\\n",
       "0  2.680064  3.212109  4.437219  6.997489  1.765742  2.710183  1.347320   \n",
       "1  2.882385  3.205957  4.429695  7.027598  1.665394  2.686316  1.278721   \n",
       "2  1.979675  1.987477  4.158032  6.776376  2.661071  3.484322  1.766610   \n",
       "3  2.604371  3.228897  4.543527  6.952094  1.799526  2.625197  1.520577   \n",
       "4  1.790809  2.324321  4.273895  6.859142  2.554055  2.656143  1.820832   \n",
       "\n",
       "         7         8         9   ...        12        13        14        15  \\\n",
       "0  4.535755  3.554214  6.554465  ...  6.336016  5.022180  3.330304  2.597778   \n",
       "1  4.548360  3.483567  6.631474  ...  6.397679  5.031493  3.344240  2.317695   \n",
       "2  4.078750  2.869276  6.398794  ...  6.051961  4.666008  3.443324  2.790818   \n",
       "3  4.529213  3.231675  6.668924  ...  6.231523  5.197782  3.443884  2.197572   \n",
       "4  4.433285  3.211163  6.476691  ...  6.251962  4.780348  3.135941  2.826434   \n",
       "\n",
       "         16        17        18        19        20        21  \n",
       "0  3.241087  6.922863  7.641846  2.067943  4.746328  5.618215  \n",
       "1  3.311777  6.985037  7.691957  2.405437  4.850136  5.670201  \n",
       "2  2.325524  6.833819  7.513571  2.430912  4.498830  5.168879  \n",
       "3  2.986038  6.939432  7.688580  2.217421  4.968002  5.520712  \n",
       "4  2.681021  6.824307  7.482550  2.187523  4.591923  5.430912  \n",
       "\n",
       "[5 rows x 22 columns]"
      ]
     },
     "execution_count": 959,
     "metadata": {},
     "output_type": "execute_result"
    }
   ],
   "source": [
    "prediction_df.head()"
   ]
  },
  {
   "cell_type": "code",
   "execution_count": 960,
   "metadata": {},
   "outputs": [],
   "source": [
    "prediction_df['File_Name'] = df_test['File_Name']"
   ]
  },
  {
   "cell_type": "code",
   "execution_count": 961,
   "metadata": {},
   "outputs": [],
   "source": [
    "# lets insert the File_Name column along with the predicted labels corresponding to the Samples Scripts.\n",
    "col_order = [i for i in range(0,22)]\n",
    "col_order.insert(0, 'File_Name')\n",
    "prediction_df = prediction_df[col_order]"
   ]
  },
  {
   "cell_type": "code",
   "execution_count": 962,
   "metadata": {},
   "outputs": [
    {
     "data": {
      "text/html": [
       "<div>\n",
       "<style scoped>\n",
       "    .dataframe tbody tr th:only-of-type {\n",
       "        vertical-align: middle;\n",
       "    }\n",
       "\n",
       "    .dataframe tbody tr th {\n",
       "        vertical-align: top;\n",
       "    }\n",
       "\n",
       "    .dataframe thead th {\n",
       "        text-align: right;\n",
       "    }\n",
       "</style>\n",
       "<table border=\"1\" class=\"dataframe\">\n",
       "  <thead>\n",
       "    <tr style=\"text-align: right;\">\n",
       "      <th></th>\n",
       "      <th>File_Name</th>\n",
       "      <th>0</th>\n",
       "      <th>1</th>\n",
       "      <th>2</th>\n",
       "      <th>3</th>\n",
       "      <th>4</th>\n",
       "      <th>5</th>\n",
       "      <th>6</th>\n",
       "      <th>7</th>\n",
       "      <th>8</th>\n",
       "      <th>...</th>\n",
       "      <th>12</th>\n",
       "      <th>13</th>\n",
       "      <th>14</th>\n",
       "      <th>15</th>\n",
       "      <th>16</th>\n",
       "      <th>17</th>\n",
       "      <th>18</th>\n",
       "      <th>19</th>\n",
       "      <th>20</th>\n",
       "      <th>21</th>\n",
       "    </tr>\n",
       "  </thead>\n",
       "  <tbody>\n",
       "    <tr>\n",
       "      <th>0</th>\n",
       "      <td>file_2300.txt</td>\n",
       "      <td>2.680064</td>\n",
       "      <td>3.212109</td>\n",
       "      <td>4.437219</td>\n",
       "      <td>6.997489</td>\n",
       "      <td>1.765742</td>\n",
       "      <td>2.710183</td>\n",
       "      <td>1.347320</td>\n",
       "      <td>4.535755</td>\n",
       "      <td>3.554214</td>\n",
       "      <td>...</td>\n",
       "      <td>6.336016</td>\n",
       "      <td>5.022180</td>\n",
       "      <td>3.330304</td>\n",
       "      <td>2.597778</td>\n",
       "      <td>3.241087</td>\n",
       "      <td>6.922863</td>\n",
       "      <td>7.641846</td>\n",
       "      <td>2.067943</td>\n",
       "      <td>4.746328</td>\n",
       "      <td>5.618215</td>\n",
       "    </tr>\n",
       "    <tr>\n",
       "      <th>1</th>\n",
       "      <td>file_809.txt</td>\n",
       "      <td>2.882385</td>\n",
       "      <td>3.205957</td>\n",
       "      <td>4.429695</td>\n",
       "      <td>7.027598</td>\n",
       "      <td>1.665394</td>\n",
       "      <td>2.686316</td>\n",
       "      <td>1.278721</td>\n",
       "      <td>4.548360</td>\n",
       "      <td>3.483567</td>\n",
       "      <td>...</td>\n",
       "      <td>6.397679</td>\n",
       "      <td>5.031493</td>\n",
       "      <td>3.344240</td>\n",
       "      <td>2.317695</td>\n",
       "      <td>3.311777</td>\n",
       "      <td>6.985037</td>\n",
       "      <td>7.691957</td>\n",
       "      <td>2.405437</td>\n",
       "      <td>4.850136</td>\n",
       "      <td>5.670201</td>\n",
       "    </tr>\n",
       "    <tr>\n",
       "      <th>2</th>\n",
       "      <td>file_1383.txt</td>\n",
       "      <td>1.979675</td>\n",
       "      <td>1.987477</td>\n",
       "      <td>4.158032</td>\n",
       "      <td>6.776376</td>\n",
       "      <td>2.661071</td>\n",
       "      <td>3.484322</td>\n",
       "      <td>1.766610</td>\n",
       "      <td>4.078750</td>\n",
       "      <td>2.869276</td>\n",
       "      <td>...</td>\n",
       "      <td>6.051961</td>\n",
       "      <td>4.666008</td>\n",
       "      <td>3.443324</td>\n",
       "      <td>2.790818</td>\n",
       "      <td>2.325524</td>\n",
       "      <td>6.833819</td>\n",
       "      <td>7.513571</td>\n",
       "      <td>2.430912</td>\n",
       "      <td>4.498830</td>\n",
       "      <td>5.168879</td>\n",
       "    </tr>\n",
       "    <tr>\n",
       "      <th>3</th>\n",
       "      <td>file_983.txt</td>\n",
       "      <td>2.604371</td>\n",
       "      <td>3.228897</td>\n",
       "      <td>4.543527</td>\n",
       "      <td>6.952094</td>\n",
       "      <td>1.799526</td>\n",
       "      <td>2.625197</td>\n",
       "      <td>1.520577</td>\n",
       "      <td>4.529213</td>\n",
       "      <td>3.231675</td>\n",
       "      <td>...</td>\n",
       "      <td>6.231523</td>\n",
       "      <td>5.197782</td>\n",
       "      <td>3.443884</td>\n",
       "      <td>2.197572</td>\n",
       "      <td>2.986038</td>\n",
       "      <td>6.939432</td>\n",
       "      <td>7.688580</td>\n",
       "      <td>2.217421</td>\n",
       "      <td>4.968002</td>\n",
       "      <td>5.520712</td>\n",
       "    </tr>\n",
       "    <tr>\n",
       "      <th>4</th>\n",
       "      <td>file_1713.txt</td>\n",
       "      <td>1.790809</td>\n",
       "      <td>2.324321</td>\n",
       "      <td>4.273895</td>\n",
       "      <td>6.859142</td>\n",
       "      <td>2.554055</td>\n",
       "      <td>2.656143</td>\n",
       "      <td>1.820832</td>\n",
       "      <td>4.433285</td>\n",
       "      <td>3.211163</td>\n",
       "      <td>...</td>\n",
       "      <td>6.251962</td>\n",
       "      <td>4.780348</td>\n",
       "      <td>3.135941</td>\n",
       "      <td>2.826434</td>\n",
       "      <td>2.681021</td>\n",
       "      <td>6.824307</td>\n",
       "      <td>7.482550</td>\n",
       "      <td>2.187523</td>\n",
       "      <td>4.591923</td>\n",
       "      <td>5.430912</td>\n",
       "    </tr>\n",
       "  </tbody>\n",
       "</table>\n",
       "<p>5 rows × 23 columns</p>\n",
       "</div>"
      ],
      "text/plain": [
       "       File_Name         0         1         2         3         4         5  \\\n",
       "0  file_2300.txt  2.680064  3.212109  4.437219  6.997489  1.765742  2.710183   \n",
       "1   file_809.txt  2.882385  3.205957  4.429695  7.027598  1.665394  2.686316   \n",
       "2  file_1383.txt  1.979675  1.987477  4.158032  6.776376  2.661071  3.484322   \n",
       "3   file_983.txt  2.604371  3.228897  4.543527  6.952094  1.799526  2.625197   \n",
       "4  file_1713.txt  1.790809  2.324321  4.273895  6.859142  2.554055  2.656143   \n",
       "\n",
       "          6         7         8  ...        12        13        14        15  \\\n",
       "0  1.347320  4.535755  3.554214  ...  6.336016  5.022180  3.330304  2.597778   \n",
       "1  1.278721  4.548360  3.483567  ...  6.397679  5.031493  3.344240  2.317695   \n",
       "2  1.766610  4.078750  2.869276  ...  6.051961  4.666008  3.443324  2.790818   \n",
       "3  1.520577  4.529213  3.231675  ...  6.231523  5.197782  3.443884  2.197572   \n",
       "4  1.820832  4.433285  3.211163  ...  6.251962  4.780348  3.135941  2.826434   \n",
       "\n",
       "         16        17        18        19        20        21  \n",
       "0  3.241087  6.922863  7.641846  2.067943  4.746328  5.618215  \n",
       "1  3.311777  6.985037  7.691957  2.405437  4.850136  5.670201  \n",
       "2  2.325524  6.833819  7.513571  2.430912  4.498830  5.168879  \n",
       "3  2.986038  6.939432  7.688580  2.217421  4.968002  5.520712  \n",
       "4  2.681021  6.824307  7.482550  2.187523  4.591923  5.430912  \n",
       "\n",
       "[5 rows x 23 columns]"
      ]
     },
     "execution_count": 962,
     "metadata": {},
     "output_type": "execute_result"
    }
   ],
   "source": [
    "prediction_df.head()"
   ]
  },
  {
   "cell_type": "code",
   "execution_count": 964,
   "metadata": {},
   "outputs": [],
   "source": [
    "# Saving the prediction to an excel file\n",
    "\n",
    "prediction_df.to_excel('./Movie_Scripts_Predicted_Proability.xlsx', index=None)"
   ]
  },
  {
   "cell_type": "code",
   "execution_count": null,
   "metadata": {},
   "outputs": [],
   "source": []
  }
 ],
 "metadata": {
  "kernelspec": {
   "display_name": "Python 3",
   "language": "python",
   "name": "python3"
  },
  "language_info": {
   "codemirror_mode": {
    "name": "ipython",
    "version": 3
   },
   "file_extension": ".py",
   "mimetype": "text/x-python",
   "name": "python",
   "nbconvert_exporter": "python",
   "pygments_lexer": "ipython3",
   "version": "3.7.6"
  }
 },
 "nbformat": 4,
 "nbformat_minor": 4
}
